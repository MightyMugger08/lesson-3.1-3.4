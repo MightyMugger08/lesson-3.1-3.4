{
 "cells": [
  {
   "cell_type": "code",
   "execution_count": null,
   "metadata": {},
   "outputs": [
    {
     "ename": "",
     "evalue": "",
     "output_type": "error",
     "traceback": [
      "\u001b[1;31mRunning cells with 'Python 3.12.7' requires the ipykernel package.\n",
      "\u001b[1;31mRun the following command to install 'ipykernel' into the Python environment. \n",
      "\u001b[1;31mCommand: 'c:/Users/itseh/AppData/Local/Microsoft/WindowsApps/python3.12.exe -m pip install ipykernel -U --user --force-reinstall'"
     ]
    }
   ],
   "source": [
    "def check_number():\n",
    "    try:\n",
    "        number = float(input(\"Please enter a number: \"))\n",
    "        if number < 0:\n",
    "            print(\"The number is negative.\")\n",
    "        else:\n",
    "            print(\"The number is non-negative\")\n",
    "    except ValueError:\n",
    "        print(\"Invalid input! Please enter a valid number. \")\n",
    "\n",
    "        check_number\n",
    "\n",
    "        def check_scores(score1, score2):\n",
    "            if score1>= 70 and score2 >= 70:\n",
    "                print(\"The student passed both subjects. \")\n",
    "            else:\n",
    "                print(\"The student did not pass both subjects. \")\n",
    "\n",
    "\n",
    "        score1 = float(input(\"Enter teh first score: \"))\n",
    "        score2 = float(input(\"Enter the second score: \"))\n",
    "\n",
    "        check_scores(score1, score2)\n"
   ]
  },
  {
   "cell_type": "code",
   "execution_count": null,
   "metadata": {},
   "outputs": [],
   "source": []
  },
  {
   "cell_type": "code",
   "execution_count": null,
   "metadata": {
    "vscode": {
     "languageId": "javascript"
    }
   },
   "outputs": [],
   "source": [
    "%% js\n",
    "def basicOperations(a, b):\n",
    "    sum = a + b\n",
    "    difference = a - b\n",
    "    product = a * b\n",
    "    quotient = a / b\n",
    "    remainder = a % b\n",
    "\n",
    "    print(f\"Addition: {a} + {b} = {sum}\")\n",
    "    print(f\"Subtraction: {a} - {b} = {difference}\")\n",
    "    print(f\"Multiplication: {a} * {b} = {product}\")\n",
    "    print(f\"Division: {a} / {b} = {quotient}\")\n",
    "    print(f\"Modulus: {a} % {b} = {remainder}\")\n",
    "\n",
    "\n",
    "basicOperations(10, 5)"
   ]
  }
 ],
 "metadata": {
  "kernelspec": {
   "display_name": "Python 3",
   "language": "python",
   "name": "python3"
  },
  "language_info": {
   "name": "python",
   "version": "3.12.7"
  }
 },
 "nbformat": 4,
 "nbformat_minor": 2
}
